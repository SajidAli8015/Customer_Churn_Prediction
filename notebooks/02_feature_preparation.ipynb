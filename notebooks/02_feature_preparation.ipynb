{
 "cells": [
  {
   "cell_type": "code",
   "execution_count": 67,
   "id": "f194c572",
   "metadata": {},
   "outputs": [],
   "source": [
    "import pandas as pd\n",
    "import numpy as np\n",
    "import matplotlib.pyplot as plt\n",
    "import seaborn as sns\n",
    "import warnings\n",
    "warnings.filterwarnings(\"ignore\")\n",
    "\n",
    "from sklearn.preprocessing import LabelEncoder"
   ]
  },
  {
   "cell_type": "markdown",
   "id": "2466617c",
   "metadata": {},
   "source": [
    "## Load Cleaned Data"
   ]
  },
  {
   "cell_type": "code",
   "execution_count": 68,
   "id": "7307f249",
   "metadata": {},
   "outputs": [
    {
     "name": "stdout",
     "output_type": "stream",
     "text": [
      "Cleaned shape: (7032, 20)\n"
     ]
    }
   ],
   "source": [
    "clean_df = pd.read_csv(\"D:/Sajid/Chrun_Prediction/data/processed/clean_data.csv\")\n",
    "print(\"Cleaned shape:\", clean_df.shape)"
   ]
  },
  {
   "cell_type": "markdown",
   "id": "fa447506",
   "metadata": {},
   "source": [
    "## Feature Engeerning"
   ]
  },
  {
   "cell_type": "code",
   "execution_count": 69,
   "id": "4b50991f",
   "metadata": {},
   "outputs": [],
   "source": [
    "# 1. Contract Type Indicator:\n",
    "\n",
    "# Convert contract type into a binary indicator for long-term commitment\n",
    "clean_df['is_long_term_contract'] = clean_df['Contract'].map({\"Month-to-month\": 0, \"One year\": 1, \"Two year\": 1})\n",
    "\n",
    "\n",
    "# 2. Tenure Group\n",
    "clean_df['tenure_group'] = pd.cut(\n",
    "    clean_df['tenure'],\n",
    "    bins=[0, 12, 24, 48, 60, 999],\n",
    "    labels=[\"less_1yr\", \"1-2yrs\", \"2-4yrs\", \"4-5yrs\", \"5+yrs\"]\n",
    ")\n",
    "\n",
    "\n",
    "\n",
    "\n",
    "# 3. Total Services Used\n",
    "#### count of total servies that customer has\n",
    "actual_service_cols = ['PhoneService', 'MultipleLines','OnlineSecurity', 'OnlineBackup',\n",
    "                       'DeviceProtection', 'TechSupport','StreamingTV', 'StreamingMovies']\n",
    "\n",
    "\n",
    "# Replace no-internet/phone service with 'No' for consistency\n",
    "clean_df['total_services'] = clean_df[actual_service_cols] \\\n",
    "    .replace(['No internet service', 'No phone service'], 'No') \\\n",
    "    .apply(lambda row: sum(row == 'Yes'), axis=1)\n",
    "\n",
    "\n",
    "# 4. Has Internet Flag\n",
    "### Binary feature if user has any form of internet connection\n",
    "clean_df['has_internet'] = clean_df['InternetService'].apply(lambda x: 0 if x == 'No' else 1)\n",
    "\n",
    "\n",
    "# 5. Tech Dependent Score\n",
    "# Count how many tech-related services are subscribed\n",
    "tech_cols = [\"OnlineSecurity\", \"OnlineBackup\", \"DeviceProtection\", \"TechSupport\"]\n",
    "clean_df['is_tech_dependent'] = clean_df[tech_cols] \\\n",
    "    .replace('No internet service', 'No') \\\n",
    "    .apply(lambda row: sum(row == 'Yes'), axis=1)\n",
    "\n",
    "\n",
    "#6. Has Streaming Services\n",
    "# Has Streaming Services (TV or Movies)\n",
    "clean_df['has_streaming'] = clean_df[['StreamingTV', 'StreamingMovies']] \\\n",
    "    .replace(['No internet service'], 'No') \\\n",
    "    .apply(lambda row: int(any(row == 'Yes')), axis=1)\n",
    "\n",
    "# 7. Has Bundle (Phone + Internet)\n",
    "clean_df['has_bundle'] = clean_df.apply(lambda x: int(x['PhoneService'] == 'Yes' and x['InternetService'] != 'No'), axis=1)\n",
    "\n",
    "# 8. Senior Citizen Living Alone\n",
    "##### has senior citizen with no partner or dependent\n",
    "clean_df['is_senior_alone'] = clean_df.apply(lambda x: int(x['SeniorCitizen'] == 1 and x['Partner'] == 'No' and x['Dependents'] == 'No'), axis=1)\n",
    "\n",
    "\n",
    "# 9.  Low Tenure High Monthly Charge\n",
    "clean_df['low_tenure_high_charge'] = ((clean_df['tenure'] < 6) & (clean_df['MonthlyCharges'] > 80)).astype(int)\n"
   ]
  },
  {
   "cell_type": "markdown",
   "id": "15adb99a",
   "metadata": {},
   "source": [
    "##  Summary statistics"
   ]
  },
  {
   "cell_type": "code",
   "execution_count": 70,
   "id": "e9dd08a0",
   "metadata": {},
   "outputs": [
    {
     "name": "stdout",
     "output_type": "stream",
     "text": [
      "\n",
      "Descriptive Statistics:\n"
     ]
    },
    {
     "data": {
      "text/html": [
       "<div>\n",
       "<style scoped>\n",
       "    .dataframe tbody tr th:only-of-type {\n",
       "        vertical-align: middle;\n",
       "    }\n",
       "\n",
       "    .dataframe tbody tr th {\n",
       "        vertical-align: top;\n",
       "    }\n",
       "\n",
       "    .dataframe thead th {\n",
       "        text-align: right;\n",
       "    }\n",
       "</style>\n",
       "<table border=\"1\" class=\"dataframe\">\n",
       "  <thead>\n",
       "    <tr style=\"text-align: right;\">\n",
       "      <th></th>\n",
       "      <th>SeniorCitizen</th>\n",
       "      <th>tenure</th>\n",
       "      <th>MonthlyCharges</th>\n",
       "      <th>TotalCharges</th>\n",
       "      <th>is_long_term_contract</th>\n",
       "      <th>total_services</th>\n",
       "      <th>has_internet</th>\n",
       "      <th>is_tech_dependent</th>\n",
       "      <th>has_streaming</th>\n",
       "      <th>has_bundle</th>\n",
       "      <th>is_senior_alone</th>\n",
       "      <th>low_tenure_high_charge</th>\n",
       "    </tr>\n",
       "  </thead>\n",
       "  <tbody>\n",
       "    <tr>\n",
       "      <th>count</th>\n",
       "      <td>7032.000000</td>\n",
       "      <td>7032.000000</td>\n",
       "      <td>7032.000000</td>\n",
       "      <td>7032.000000</td>\n",
       "      <td>7032.000000</td>\n",
       "      <td>7032.000000</td>\n",
       "      <td>7032.000000</td>\n",
       "      <td>7032.000000</td>\n",
       "      <td>7032.000000</td>\n",
       "      <td>7032.000000</td>\n",
       "      <td>7032.000000</td>\n",
       "      <td>7032.000000</td>\n",
       "    </tr>\n",
       "    <tr>\n",
       "      <th>mean</th>\n",
       "      <td>0.162400</td>\n",
       "      <td>32.421786</td>\n",
       "      <td>64.798208</td>\n",
       "      <td>2283.300441</td>\n",
       "      <td>0.448948</td>\n",
       "      <td>3.363339</td>\n",
       "      <td>0.783845</td>\n",
       "      <td>1.265358</td>\n",
       "      <td>0.497014</td>\n",
       "      <td>0.687144</td>\n",
       "      <td>0.079778</td>\n",
       "      <td>0.035836</td>\n",
       "    </tr>\n",
       "    <tr>\n",
       "      <th>std</th>\n",
       "      <td>0.368844</td>\n",
       "      <td>24.545260</td>\n",
       "      <td>30.085974</td>\n",
       "      <td>2266.771362</td>\n",
       "      <td>0.497422</td>\n",
       "      <td>2.062067</td>\n",
       "      <td>0.411650</td>\n",
       "      <td>1.286277</td>\n",
       "      <td>0.500027</td>\n",
       "      <td>0.463689</td>\n",
       "      <td>0.270969</td>\n",
       "      <td>0.185895</td>\n",
       "    </tr>\n",
       "    <tr>\n",
       "      <th>min</th>\n",
       "      <td>0.000000</td>\n",
       "      <td>1.000000</td>\n",
       "      <td>18.250000</td>\n",
       "      <td>18.800000</td>\n",
       "      <td>0.000000</td>\n",
       "      <td>0.000000</td>\n",
       "      <td>0.000000</td>\n",
       "      <td>0.000000</td>\n",
       "      <td>0.000000</td>\n",
       "      <td>0.000000</td>\n",
       "      <td>0.000000</td>\n",
       "      <td>0.000000</td>\n",
       "    </tr>\n",
       "    <tr>\n",
       "      <th>25%</th>\n",
       "      <td>0.000000</td>\n",
       "      <td>9.000000</td>\n",
       "      <td>35.587500</td>\n",
       "      <td>401.450000</td>\n",
       "      <td>0.000000</td>\n",
       "      <td>1.000000</td>\n",
       "      <td>1.000000</td>\n",
       "      <td>0.000000</td>\n",
       "      <td>0.000000</td>\n",
       "      <td>0.000000</td>\n",
       "      <td>0.000000</td>\n",
       "      <td>0.000000</td>\n",
       "    </tr>\n",
       "    <tr>\n",
       "      <th>50%</th>\n",
       "      <td>0.000000</td>\n",
       "      <td>29.000000</td>\n",
       "      <td>70.350000</td>\n",
       "      <td>1397.475000</td>\n",
       "      <td>0.000000</td>\n",
       "      <td>3.000000</td>\n",
       "      <td>1.000000</td>\n",
       "      <td>1.000000</td>\n",
       "      <td>0.000000</td>\n",
       "      <td>1.000000</td>\n",
       "      <td>0.000000</td>\n",
       "      <td>0.000000</td>\n",
       "    </tr>\n",
       "    <tr>\n",
       "      <th>75%</th>\n",
       "      <td>0.000000</td>\n",
       "      <td>55.000000</td>\n",
       "      <td>89.862500</td>\n",
       "      <td>3794.737500</td>\n",
       "      <td>1.000000</td>\n",
       "      <td>5.000000</td>\n",
       "      <td>1.000000</td>\n",
       "      <td>2.000000</td>\n",
       "      <td>1.000000</td>\n",
       "      <td>1.000000</td>\n",
       "      <td>0.000000</td>\n",
       "      <td>0.000000</td>\n",
       "    </tr>\n",
       "    <tr>\n",
       "      <th>max</th>\n",
       "      <td>1.000000</td>\n",
       "      <td>72.000000</td>\n",
       "      <td>118.750000</td>\n",
       "      <td>8684.800000</td>\n",
       "      <td>1.000000</td>\n",
       "      <td>8.000000</td>\n",
       "      <td>1.000000</td>\n",
       "      <td>4.000000</td>\n",
       "      <td>1.000000</td>\n",
       "      <td>1.000000</td>\n",
       "      <td>1.000000</td>\n",
       "      <td>1.000000</td>\n",
       "    </tr>\n",
       "  </tbody>\n",
       "</table>\n",
       "</div>"
      ],
      "text/plain": [
       "       SeniorCitizen       tenure  MonthlyCharges  TotalCharges  \\\n",
       "count    7032.000000  7032.000000     7032.000000   7032.000000   \n",
       "mean        0.162400    32.421786       64.798208   2283.300441   \n",
       "std         0.368844    24.545260       30.085974   2266.771362   \n",
       "min         0.000000     1.000000       18.250000     18.800000   \n",
       "25%         0.000000     9.000000       35.587500    401.450000   \n",
       "50%         0.000000    29.000000       70.350000   1397.475000   \n",
       "75%         0.000000    55.000000       89.862500   3794.737500   \n",
       "max         1.000000    72.000000      118.750000   8684.800000   \n",
       "\n",
       "       is_long_term_contract  total_services  has_internet  is_tech_dependent  \\\n",
       "count            7032.000000     7032.000000   7032.000000        7032.000000   \n",
       "mean                0.448948        3.363339      0.783845           1.265358   \n",
       "std                 0.497422        2.062067      0.411650           1.286277   \n",
       "min                 0.000000        0.000000      0.000000           0.000000   \n",
       "25%                 0.000000        1.000000      1.000000           0.000000   \n",
       "50%                 0.000000        3.000000      1.000000           1.000000   \n",
       "75%                 1.000000        5.000000      1.000000           2.000000   \n",
       "max                 1.000000        8.000000      1.000000           4.000000   \n",
       "\n",
       "       has_streaming   has_bundle  is_senior_alone  low_tenure_high_charge  \n",
       "count    7032.000000  7032.000000      7032.000000             7032.000000  \n",
       "mean        0.497014     0.687144         0.079778                0.035836  \n",
       "std         0.500027     0.463689         0.270969                0.185895  \n",
       "min         0.000000     0.000000         0.000000                0.000000  \n",
       "25%         0.000000     0.000000         0.000000                0.000000  \n",
       "50%         0.000000     1.000000         0.000000                0.000000  \n",
       "75%         1.000000     1.000000         0.000000                0.000000  \n",
       "max         1.000000     1.000000         1.000000                1.000000  "
      ]
     },
     "execution_count": 70,
     "metadata": {},
     "output_type": "execute_result"
    }
   ],
   "source": [
    "print(\"\\nDescriptive Statistics:\")\n",
    "clean_df.describe()"
   ]
  },
  {
   "cell_type": "markdown",
   "id": "0f85cb64",
   "metadata": {},
   "source": [
    "##   Encoding Categorical Features\n",
    "\n",
    "- Encode Categorical Variables based on cardinality"
   ]
  },
  {
   "cell_type": "code",
   "execution_count": 71,
   "id": "fc96a790",
   "metadata": {},
   "outputs": [],
   "source": [
    "cat_cols = clean_df.select_dtypes(include=['object', 'category']).columns\n",
    "le = LabelEncoder()\n",
    "binary_encoded_cols = []\n",
    "onehot_encoded_cols = []\n",
    "label_encoded_cols = []\n",
    "\n",
    "for col in cat_cols:\n",
    "    unique_vals = clean_df[col].nunique()\n",
    "\n",
    "    if unique_vals == 2:\n",
    "        clean_df[col] = clean_df[col].map({\"Yes\": 1, \"No\": 0}) if set(clean_df[col].unique()) == {\"Yes\", \"No\"} else le.fit_transform(clean_df[col])\n",
    "        binary_encoded_cols.append(col)\n",
    "\n",
    "    elif unique_vals <= 5:\n",
    "        clean_df = pd.get_dummies(clean_df, columns=[col], drop_first=True)\n",
    "        onehot_encoded_cols.append(col)\n",
    "\n",
    "    else:\n",
    "        clean_df[col] = le.fit_transform(clean_df[col])\n",
    "        label_encoded_cols.append(col)\n"
   ]
  },
  {
   "cell_type": "code",
   "execution_count": 72,
   "id": "8acfa4b8",
   "metadata": {},
   "outputs": [
    {
     "name": "stdout",
     "output_type": "stream",
     "text": [
      "Final dataset shape after encoding: (7032, 43)\n"
     ]
    }
   ],
   "source": [
    "print(\"Final dataset shape after encoding:\", clean_df.shape)"
   ]
  },
  {
   "cell_type": "code",
   "execution_count": 73,
   "id": "79e236c6",
   "metadata": {},
   "outputs": [
    {
     "name": "stdout",
     "output_type": "stream",
     "text": [
      "<class 'pandas.core.frame.DataFrame'>\n",
      "RangeIndex: 7032 entries, 0 to 7031\n",
      "Data columns (total 43 columns):\n",
      " #   Column                                 Non-Null Count  Dtype  \n",
      "---  ------                                 --------------  -----  \n",
      " 0   gender                                 7032 non-null   int32  \n",
      " 1   SeniorCitizen                          7032 non-null   int64  \n",
      " 2   Partner                                7032 non-null   int64  \n",
      " 3   Dependents                             7032 non-null   int64  \n",
      " 4   tenure                                 7032 non-null   int64  \n",
      " 5   PhoneService                           7032 non-null   int64  \n",
      " 6   PaperlessBilling                       7032 non-null   int64  \n",
      " 7   MonthlyCharges                         7032 non-null   float64\n",
      " 8   TotalCharges                           7032 non-null   float64\n",
      " 9   Churn                                  7032 non-null   int64  \n",
      " 10  is_long_term_contract                  7032 non-null   int64  \n",
      " 11  total_services                         7032 non-null   int64  \n",
      " 12  has_internet                           7032 non-null   int64  \n",
      " 13  is_tech_dependent                      7032 non-null   int64  \n",
      " 14  has_streaming                          7032 non-null   int64  \n",
      " 15  has_bundle                             7032 non-null   int64  \n",
      " 16  is_senior_alone                        7032 non-null   int64  \n",
      " 17  low_tenure_high_charge                 7032 non-null   int32  \n",
      " 18  MultipleLines_No phone service         7032 non-null   uint8  \n",
      " 19  MultipleLines_Yes                      7032 non-null   uint8  \n",
      " 20  InternetService_Fiber optic            7032 non-null   uint8  \n",
      " 21  InternetService_No                     7032 non-null   uint8  \n",
      " 22  OnlineSecurity_No internet service     7032 non-null   uint8  \n",
      " 23  OnlineSecurity_Yes                     7032 non-null   uint8  \n",
      " 24  OnlineBackup_No internet service       7032 non-null   uint8  \n",
      " 25  OnlineBackup_Yes                       7032 non-null   uint8  \n",
      " 26  DeviceProtection_No internet service   7032 non-null   uint8  \n",
      " 27  DeviceProtection_Yes                   7032 non-null   uint8  \n",
      " 28  TechSupport_No internet service        7032 non-null   uint8  \n",
      " 29  TechSupport_Yes                        7032 non-null   uint8  \n",
      " 30  StreamingTV_No internet service        7032 non-null   uint8  \n",
      " 31  StreamingTV_Yes                        7032 non-null   uint8  \n",
      " 32  StreamingMovies_No internet service    7032 non-null   uint8  \n",
      " 33  StreamingMovies_Yes                    7032 non-null   uint8  \n",
      " 34  Contract_One year                      7032 non-null   uint8  \n",
      " 35  Contract_Two year                      7032 non-null   uint8  \n",
      " 36  PaymentMethod_Credit card (automatic)  7032 non-null   uint8  \n",
      " 37  PaymentMethod_Electronic check         7032 non-null   uint8  \n",
      " 38  PaymentMethod_Mailed check             7032 non-null   uint8  \n",
      " 39  tenure_group_1-2yrs                    7032 non-null   uint8  \n",
      " 40  tenure_group_2-4yrs                    7032 non-null   uint8  \n",
      " 41  tenure_group_4-5yrs                    7032 non-null   uint8  \n",
      " 42  tenure_group_5+yrs                     7032 non-null   uint8  \n",
      "dtypes: float64(2), int32(2), int64(14), uint8(25)\n",
      "memory usage: 1.1 MB\n"
     ]
    }
   ],
   "source": [
    "clean_df.info()"
   ]
  },
  {
   "cell_type": "markdown",
   "id": "15bcc612",
   "metadata": {},
   "source": [
    "## Check corr between the features"
   ]
  },
  {
   "cell_type": "code",
   "execution_count": 75,
   "id": "847c7635",
   "metadata": {},
   "outputs": [
    {
     "data": {
      "image/png": "[encoded data removed]",
      "text/plain": [
       "<Figure size 864x576 with 2 Axes>"
      ]
     },
     "metadata": {
      "needs_background": "light"
     },
     "output_type": "display_data"
    }
   ],
   "source": [
    "corr_matrix = clean_df.drop(columns=[\"Churn\"]).corr()\n",
    "\n",
    "# Select only highly correlated features (|correlation| > 0.6)\n",
    "high_corr = corr_matrix[(corr_matrix.abs() > 0.80) & (corr_matrix.abs() < 1.0)]\n",
    "\n",
    "# Drop rows/cols with all NaN values (i.e., features that don't have high correlation)\n",
    "high_corr = high_corr.dropna(how='all').dropna(axis=1, how='all')\n",
    "\n",
    "\n",
    "# Plot the correlation heatmap\n",
    "plt.figure(figsize=(12,8))\n",
    "sns.heatmap(high_corr, annot=True, cmap=\"coolwarm\", fmt=\".2f\", linewidths=0.5)\n",
    "plt.title(\"Feature Correlation Matrix (Excluding Target)\")\n",
    "plt.show()"
   ]
  },
  {
   "cell_type": "markdown",
   "id": "4f2b48df",
   "metadata": {},
   "source": [
    "## Save Final Encoded Dataset"
   ]
  },
  {
   "cell_type": "code",
   "execution_count": 76,
   "id": "e373edd0",
   "metadata": {},
   "outputs": [
    {
     "name": "stdout",
     "output_type": "stream",
     "text": [
      "Final encoded dataset saved as 'final_encoded_data.csv'\n"
     ]
    }
   ],
   "source": [
    "clean_df.to_csv(\"D:/Sajid/Chrun_Prediction/data/processed/final_encoded_data.csv\", index=False)\n",
    "print(\"Final encoded dataset saved as 'final_encoded_data.csv'\")"
   ]
  },
  {
   "cell_type": "code",
   "execution_count": null,
   "id": "baefd2c1",
   "metadata": {},
   "outputs": [],
   "source": []
  }
 ],
 "metadata": {
  "kernelspec": {
   "display_name": "Python 3 (ipykernel)",
   "language": "python",
   "name": "python3"
  },
  "language_info": {
   "codemirror_mode": {
    "name": "ipython",
    "version": 3
   },
   "file_extension": ".py",
   "mimetype": "text/x-python",
   "name": "python",
   "nbconvert_exporter": "python",
   "pygments_lexer": "ipython3",
   "version": "3.9.7"
  }
 },
 "nbformat": 4,
 "nbformat_minor": 5
}
